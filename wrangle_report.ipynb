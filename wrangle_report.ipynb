{
 "cells": [
  {
   "cell_type": "markdown",
   "metadata": {},
   "source": [
    "# Reporting: Wrangle Report"
   ]
  },
  {
   "cell_type": "markdown",
   "metadata": {},
   "source": [
    "### Data Gathering\n",
    "\n",
    "I downloaded the twitter_archive_enhanced csv file manually and read it into a pandas dataframe named archive. Then, I programatically, using the requests library, with code provided from the Udacity classroom downloaded the images_predictions tsv file and save it in a different dataframe. Next, I applied for essential access in a Twitter developer account but I didn't get approved on-time to I used the tweet_json.txt file provided by Udacity - with the help of the json library I read the data into a list line by line and converted it to a dataframe"
   ]
  },
  {
   "cell_type": "markdown",
   "metadata": {},
   "source": [
    "### Accessing Data\n",
    "\n",
    "After having my three datasets available, I accessed the data visually and programmatically, checking null values, duplicate rows of data, inappropriate datatypes of columns and other issues I could find. I identified eight (8) quality issues and three (3) tidiness issues which are listed below\n",
    "\n",
    "#### Quality Issues\n",
    "1. Inappropriate data type for timestamp and tweet_id. It should be datetime\n",
    "\n",
    "2. 181 Retweets exist in the dataset\n",
    "\n",
    "3. Invalid names of dogs. Some are named 'None' while others are named lower case words\n",
    "\n",
    "4. Incorrect ratings of 75/10\n",
    "\n",
    "5. Duplicate values in the expanded_urls column\n",
    "\n",
    "6. jpg_url column has duplicated values\n",
    "\n",
    "7. tweet_id datatype should be object\n",
    "\n",
    "8. id column should be named tweet_id and converted to object\n",
    "\n",
    "#### Tidiness issues\n",
    "1. Because retweets are not part of my analysis, retweeted_status_id, retweeted_status_user_id and retweeted_status_timestamp, are not needed. in_reply_to_status, in_reply_to_user_id are also not important to my analysis\n",
    "\n",
    "2. In the Twitter Archive Enhanced dataset, the doggo, floofer, pupper and puppo columns should be one column\n",
    "\n",
    "3. All three dataframes should be merged to form one master dataset"
   ]
  },
  {
   "cell_type": "markdown",
   "metadata": {},
   "source": [
    "### Cleaning Data\n",
    "After identifying the issues in my dataset, I created copies of each dataframe and used the **Define - Code - Test** method to fix the quality and tidiness issues I identified in the assessment phase. When this was done, I saved the master tidy dataset as a csv file."
   ]
  }
 ],
 "metadata": {
  "kernelspec": {
   "display_name": "Python 3",
   "language": "python",
   "name": "python3"
  },
  "language_info": {
   "codemirror_mode": {
    "name": "ipython",
    "version": 3
   },
   "file_extension": ".py",
   "mimetype": "text/x-python",
   "name": "python",
   "nbconvert_exporter": "python",
   "pygments_lexer": "ipython3",
   "version": "3.8.8"
  }
 },
 "nbformat": 4,
 "nbformat_minor": 2
}
